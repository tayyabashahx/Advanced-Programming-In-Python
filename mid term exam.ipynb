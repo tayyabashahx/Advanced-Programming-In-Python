{
 "cells": [
  {
   "cell_type": "code",
   "execution_count": 10,
   "metadata": {},
   "outputs": [
    {
     "name": "stdout",
     "output_type": "stream",
     "text": [
      "Enter a string: tayyaba\n",
      "New string: abayyat\n"
     ]
    }
   ],
   "source": [
    "variable_string = input(\"Enter a string: \")\n",
    "new_variable = variable_string[::-1]\n",
    "print('New string:', new_variable)"
   ]
  },
  {
   "cell_type": "code",
   "execution_count": 11,
   "metadata": {},
   "outputs": [
    {
     "name": "stdout",
     "output_type": "stream",
     "text": [
      "Enter an integer: 35\n",
      "Factorial of 35 is 10333147966386144929666651337523200000000\n"
     ]
    }
   ],
   "source": [
    "Number = int(input(\"Enter an integer: \"))\n",
    "Factorial=1\n",
    "i=Number\n",
    "while i>1:\n",
    "    Factorial=Factorial*i\n",
    "    i=i-1\n",
    "print(\"Factorial of\",Number,\"is\",Factorial)\n"
   ]
  },
  {
   "cell_type": "code",
   "execution_count": 4,
   "metadata": {},
   "outputs": [
    {
     "name": "stdout",
     "output_type": "stream",
     "text": [
      "Enter a character: t\n",
      "t is a consonant.\n"
     ]
    }
   ],
   "source": [
    "my_character = input(\"Enter a character: \")\n",
    "if my_character in (\"a\",\"e\",\"i\",\"o\",\"u\"):\n",
    "    print(my_character,\" is a vowel.\")\n",
    "else:\n",
    "    print(my_character,\"is a consonant.\")\n",
    "    "
   ]
  },
  {
   "cell_type": "code",
   "execution_count": 8,
   "metadata": {},
   "outputs": [
    {
     "name": "stdout",
     "output_type": "stream",
     "text": [
      "please, enter the size of your list. 5\n",
      "Enter the 5 elements\n",
      "1\n",
      "2\n",
      "3\n",
      "4\n",
      "5\n",
      "Reverse list: [5, 4, 3, 2, 1]\n"
     ]
    }
   ],
   "source": [
    "List = []\n",
    "size_of_list = int(input('please, enter the size of your list. '))\n",
    "\n",
    "print('Enter the',str(size_of_list),'elements')\n",
    "\n",
    "for i in range(size_of_list):\n",
    "    data = int(input())\n",
    "    #using append method\n",
    "    List.append(data)\n",
    "\n",
    "#reversing the list\n",
    "for i in range(size_of_list//2):\n",
    "    #changing elements\n",
    "    List[i],List[len(List)-1-i] = List[len(List)-1-i], List[i]\n",
    "\n",
    "print('Reverse list:', List)"
   ]
  },
  {
   "cell_type": "code",
   "execution_count": 19,
   "metadata": {},
   "outputs": [
    {
     "name": "stdout",
     "output_type": "stream",
     "text": [
      "The sum of cubes of list is : 71147\n"
     ]
    }
   ],
   "source": [
    "list = [9, 5, 13, 16, 40]\n",
    "#cube sum\n",
    "cube_sum = sum(map(lambda i : i * i * i, list))\n",
    "print (\"The sum of cubes of list is : \" + str(cube_sum))"
   ]
  },
  {
   "cell_type": "code",
   "execution_count": null,
   "metadata": {},
   "outputs": [],
   "source": []
  }
 ],
 "metadata": {
  "kernelspec": {
   "display_name": "Python 3",
   "language": "python",
   "name": "python3"
  },
  "language_info": {
   "codemirror_mode": {
    "name": "ipython",
    "version": 3
   },
   "file_extension": ".py",
   "mimetype": "text/x-python",
   "name": "python",
   "nbconvert_exporter": "python",
   "pygments_lexer": "ipython3",
   "version": "3.7.4"
  }
 },
 "nbformat": 4,
 "nbformat_minor": 2
}
